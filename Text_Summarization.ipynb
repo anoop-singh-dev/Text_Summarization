{
  "nbformat": 4,
  "nbformat_minor": 0,
  "metadata": {
    "colab": {
      "name": "Text_Summarization.ipynb",
      "provenance": []
    },
    "kernelspec": {
      "name": "python3",
      "display_name": "Python 3"
    }
  },
  "cells": [
    {
      "cell_type": "markdown",
      "metadata": {
        "id": "WYdMwvYn42jw",
        "colab_type": "text"
      },
      "source": [
        "# **Text Summarization using NLP**\n",
        "\n",
        "\n",
        "**What is text summarization?**\n",
        "\n",
        "Text summarization is the process of distilling the most important information from a source text."
      ]
    },
    {
      "cell_type": "markdown",
      "metadata": {
        "id": "QSmeHW7R6FEF",
        "colab_type": "text"
      },
      "source": [
        "**Why automatic text summarization?**\n",
        "\n",
        "\n",
        "\n",
        "1.   Summaries reduce reading time.\n",
        "2.   When researching documents,summaries make the  selection process easier.\n",
        "3.   Automatic summarization improves the effectiveness of indexing.\n",
        "4.   Automatice summarization algorithms are less biased than human summarization.\n",
        "5.   Personalized summaries are useful in question-answering systems as they provied personalized information.\n",
        "6.   Using automatic or semi-automatic summarization systems enables commercial abstract services to increase the number of text documents they are able to process.\n",
        "\n",
        "\n",
        "\n"
      ]
    },
    {
      "cell_type": "markdown",
      "metadata": {
        "id": "ZU31cjFg83hu",
        "colab_type": "text"
      },
      "source": [
        "# **Type of summarization**\n",
        "\n",
        "![alt text](https://drive.google.com/uc?id=1AqwSGEpi3vzAOLVt_5XXRXokZHvcn43B)"
      ]
    },
    {
      "cell_type": "markdown",
      "metadata": {
        "id": "s9xxDWxC-1eM",
        "colab_type": "text"
      },
      "source": [
        "\n",
        "\n",
        "**How to do text summarization**\n",
        "\n",
        "\n",
        "*   Text cleaning\n",
        "*   Sentence tokenization\n",
        "*   Word tokenzation\n",
        "*   Word-frequency table\n",
        "*   Summarization \n",
        " \n",
        " \n",
        "\n",
        "  **Text variable**\n",
        "\n",
        "\n",
        "\n",
        "\n",
        "\n",
        "\n"
      ]
    },
    {
      "cell_type": "markdown",
      "metadata": {
        "id": "rOfW0xVd-tWw",
        "colab_type": "text"
      },
      "source": [
        ""
      ]
    },
    {
      "cell_type": "code",
      "metadata": {
        "id": "2JqLo7pWYD1o",
        "colab_type": "code",
        "colab": {}
      },
      "source": [
        " text = \"\"\"\n",
        " Maria Sharapova has basically no friends as tennis players on the WTA Tour. The Russian player has no problems in openly speaking about it and in a recent interview she said: 'I don't really hide any feelings too much. \n",
        " I think everyone knows this is my job here. When I'm on the courts or when I'm on the court playing, I'm a competitor and I want to beat every single person whether they're in the locker room or across the net.\n",
        " So I'm not the one to strike up a conversation about the weather and know that in the next few minutes I have to go and try to win a tennis match. \n",
        " I'm a pretty competitive girl. I say my hellos, but I'm not sending any players flowers as well. Uhm, I'm not really friendly or close to many players.\n",
        " I have not a lot of friends away from the courts.' When she said she is not really close to a lot of players, is that something strategic that she is doing? Is it different on the men's tour than the women's tour? 'No, not at all.\n",
        " I think just because you're in the same sport doesn't mean that you have to be friends with everyone just because you're categorized, you're a tennis player, so you're going to get along with tennis players. \n",
        " I think every person has different interests. I have friends that have completely different jobs and interests, and I've met them in very different parts of my life.\n",
        " I think everyone just thinks because we're tennis players we should be the greatest of friends. But ultimately tennis is just a very small part of what we do. \n",
        " There are so many other things that we're interested in, that we do.'\n",
        " \"\"\""
      ],
      "execution_count": 0,
      "outputs": []
    },
    {
      "cell_type": "markdown",
      "metadata": {
        "id": "ICuVSNbQY-dO",
        "colab_type": "text"
      },
      "source": [
        "\n",
        "\n",
        "# Let's Get Started with SpaCy"
      ]
    },
    {
      "cell_type": "code",
      "metadata": {
        "id": "6Ehfk3s8ZL0b",
        "colab_type": "code",
        "colab": {}
      },
      "source": [
        "# !pip instlla -U spacy\n",
        "# !python -m spacy download en_core_web_sm"
      ],
      "execution_count": 0,
      "outputs": []
    },
    {
      "cell_type": "code",
      "metadata": {
        "id": "gT1zyYMnZguO",
        "colab_type": "code",
        "colab": {}
      },
      "source": [
        "import spacy\n",
        "from spacy.lang.en.stop_words import STOP_WORDS\n",
        "from string import punctuation"
      ],
      "execution_count": 0,
      "outputs": []
    },
    {
      "cell_type": "code",
      "metadata": {
        "id": "JrR_ipOKZ4Lp",
        "colab_type": "code",
        "colab": {}
      },
      "source": [
        "stopwords = list(STOP_WORDS)"
      ],
      "execution_count": 0,
      "outputs": []
    },
    {
      "cell_type": "code",
      "metadata": {
        "id": "PrE3D0S6aC_s",
        "colab_type": "code",
        "colab": {}
      },
      "source": [
        "nlp = spacy.load('en_core_web_sm')"
      ],
      "execution_count": 0,
      "outputs": []
    },
    {
      "cell_type": "code",
      "metadata": {
        "id": "RntMWU8DaQDm",
        "colab_type": "code",
        "colab": {}
      },
      "source": [
        "doc = nlp(text)"
      ],
      "execution_count": 0,
      "outputs": []
    },
    {
      "cell_type": "code",
      "metadata": {
        "id": "Pqre-o8AaXRA",
        "colab_type": "code",
        "outputId": "b300f8b7-9437-49f2-81f3-08620d946c1e",
        "colab": {
          "base_uri": "https://localhost:8080/",
          "height": 54
        }
      },
      "source": [
        "tokens = [token.text for token in doc]\n",
        "print(tokens)"
      ],
      "execution_count": 60,
      "outputs": [
        {
          "output_type": "stream",
          "text": [
            "['\\n', 'Maria', 'Sharapova', 'has', 'basically', 'no', 'friends', 'as', 'tennis', 'players', 'on', 'the', 'WTA', 'Tour', '.', 'The', 'Russian', 'player', 'has', 'no', 'problems', 'in', 'openly', 'speaking', 'about', 'it', 'and', 'in', 'a', 'recent', 'interview', 'she', 'said', ':', \"'\", 'I', 'do', \"n't\", 'really', 'hide', 'any', 'feelings', 'too', 'much', '.', '\\n', 'I', 'think', 'everyone', 'knows', 'this', 'is', 'my', 'job', 'here', '.', 'When', 'I', \"'m\", 'on', 'the', 'courts', 'or', 'when', 'I', \"'m\", 'on', 'the', 'court', 'playing', ',', 'I', \"'m\", 'a', 'competitor', 'and', 'I', 'want', 'to', 'beat', 'every', 'single', 'person', 'whether', 'they', \"'re\", 'in', 'the', 'locker', 'room', 'or', 'across', 'the', 'net', '.', '\\n', 'So', 'I', \"'m\", 'not', 'the', 'one', 'to', 'strike', 'up', 'a', 'conversation', 'about', 'the', 'weather', 'and', 'know', 'that', 'in', 'the', 'next', 'few', 'minutes', 'I', 'have', 'to', 'go', 'and', 'try', 'to', 'win', 'a', 'tennis', 'match', '.', '\\n', 'I', \"'m\", 'a', 'pretty', 'competitive', 'girl', '.', 'I', 'say', 'my', 'hellos', ',', 'but', 'I', \"'m\", 'not', 'sending', 'any', 'players', 'flowers', 'as', 'well', '.', 'Uhm', ',', 'I', \"'m\", 'not', 'really', 'friendly', 'or', 'close', 'to', 'many', 'players', '.', '\\n', 'I', 'have', 'not', 'a', 'lot', 'of', 'friends', 'away', 'from', 'the', 'courts', '.', \"'\", 'When', 'she', 'said', 'she', 'is', 'not', 'really', 'close', 'to', 'a', 'lot', 'of', 'players', ',', 'is', 'that', 'something', 'strategic', 'that', 'she', 'is', 'doing', '?', 'Is', 'it', 'different', 'on', 'the', 'men', \"'s\", 'tour', 'than', 'the', 'women', \"'s\", 'tour', '?', \"'\", 'No', ',', 'not', 'at', 'all', '.', '\\n', 'I', 'think', 'just', 'because', 'you', \"'re\", 'in', 'the', 'same', 'sport', 'does', \"n't\", 'mean', 'that', 'you', 'have', 'to', 'be', 'friends', 'with', 'everyone', 'just', 'because', 'you', \"'re\", 'categorized', ',', 'you', \"'re\", 'a', 'tennis', 'player', ',', 'so', 'you', \"'re\", 'going', 'to', 'get', 'along', 'with', 'tennis', 'players', '.', '\\n', 'I', 'think', 'every', 'person', 'has', 'different', 'interests', '.', 'I', 'have', 'friends', 'that', 'have', 'completely', 'different', 'jobs', 'and', 'interests', ',', 'and', 'I', \"'ve\", 'met', 'them', 'in', 'very', 'different', 'parts', 'of', 'my', 'life', '.', '\\n', 'I', 'think', 'everyone', 'just', 'thinks', 'because', 'we', \"'re\", 'tennis', 'players', 'we', 'should', 'be', 'the', 'greatest', 'of', 'friends', '.', 'But', 'ultimately', 'tennis', 'is', 'just', 'a', 'very', 'small', 'part', 'of', 'what', 'we', 'do', '.', '\\n', 'There', 'are', 'so', 'many', 'other', 'things', 'that', 'we', \"'re\", 'interested', 'in', ',', 'that', 'we', 'do', '.', \"'\", '\\n']\n"
          ],
          "name": "stdout"
        }
      ]
    },
    {
      "cell_type": "code",
      "metadata": {
        "id": "Tn2Uv-F3HDpw",
        "colab_type": "code",
        "colab": {
          "base_uri": "https://localhost:8080/",
          "height": 34
        },
        "outputId": "6325b5fd-cc77-4ebd-bf7f-43ca48ed905a"
      },
      "source": [
        "punctuation = punctuation + '\\n'\n",
        "punctuation"
      ],
      "execution_count": 61,
      "outputs": [
        {
          "output_type": "execute_result",
          "data": {
            "text/plain": [
              "'!\"#$%&\\'()*+,-./:;<=>?@[\\\\]^_`{|}~\\n'"
            ]
          },
          "metadata": {
            "tags": []
          },
          "execution_count": 61
        }
      ]
    },
    {
      "cell_type": "code",
      "metadata": {
        "id": "huSfsmdrWK84",
        "colab_type": "code",
        "colab": {}
      },
      "source": [
        "word_frequencies = {}\n",
        "for word in doc:\n",
        "  if word.text.lower() not in stopwords:\n",
        "    if word.text.lower() not in punctuation:\n",
        "      if word.text not in word_frequencies.keys():\n",
        "        word_frequencies[word.text] = 1\n",
        "      else:\n",
        "        word_frequencies[word.text] += 1"
      ],
      "execution_count": 0,
      "outputs": []
    },
    {
      "cell_type": "code",
      "metadata": {
        "id": "EgiBcbxFXZj2",
        "colab_type": "code",
        "colab": {
          "base_uri": "https://localhost:8080/",
          "height": 54
        },
        "outputId": "0e337628-198e-4ac5-fd31-3ac152800854"
      },
      "source": [
        "print(word_frequencies)"
      ],
      "execution_count": 63,
      "outputs": [
        {
          "output_type": "stream",
          "text": [
            "{'Maria': 1, 'Sharapova': 1, 'basically': 1, 'friends': 5, 'tennis': 6, 'players': 6, 'WTA': 1, 'Tour': 1, 'Russian': 1, 'player': 2, 'problems': 1, 'openly': 1, 'speaking': 1, 'recent': 1, 'interview': 1, 'said': 2, 'hide': 1, 'feelings': 1, 'think': 4, 'knows': 1, 'job': 1, 'courts': 2, 'court': 1, 'playing': 1, 'competitor': 1, 'want': 1, 'beat': 1, 'single': 1, 'person': 2, 'locker': 1, 'room': 1, 'net': 1, 'strike': 1, 'conversation': 1, 'weather': 1, 'know': 1, 'minutes': 1, 'try': 1, 'win': 1, 'match': 1, 'pretty': 1, 'competitive': 1, 'girl': 1, 'hellos': 1, 'sending': 1, 'flowers': 1, 'Uhm': 1, 'friendly': 1, 'close': 2, 'lot': 2, 'away': 1, 'strategic': 1, 'different': 4, 'men': 1, 'tour': 2, 'women': 1, 'sport': 1, 'mean': 1, 'categorized': 1, 'going': 1, 'interests': 2, 'completely': 1, 'jobs': 1, 'met': 1, 'parts': 1, 'life': 1, 'thinks': 1, 'greatest': 1, 'ultimately': 1, 'small': 1, 'things': 1, 'interested': 1}\n"
          ],
          "name": "stdout"
        }
      ]
    },
    {
      "cell_type": "code",
      "metadata": {
        "id": "59QpWTlkX6UC",
        "colab_type": "code",
        "colab": {}
      },
      "source": [
        "max_frequency = max(word_frequencies.values())"
      ],
      "execution_count": 0,
      "outputs": []
    },
    {
      "cell_type": "code",
      "metadata": {
        "id": "oIQGF1vAYGoD",
        "colab_type": "code",
        "colab": {
          "base_uri": "https://localhost:8080/",
          "height": 34
        },
        "outputId": "f72c0f9a-4d57-44bf-ca63-1a0fc8b87d3b"
      },
      "source": [
        "max_frequency"
      ],
      "execution_count": 65,
      "outputs": [
        {
          "output_type": "execute_result",
          "data": {
            "text/plain": [
              "6"
            ]
          },
          "metadata": {
            "tags": []
          },
          "execution_count": 65
        }
      ]
    },
    {
      "cell_type": "code",
      "metadata": {
        "id": "Gx_S5rRXYX2H",
        "colab_type": "code",
        "colab": {}
      },
      "source": [
        "for word in word_frequencies.keys():\n",
        "  word_frequencies[word] = word_frequencies[word]/max_frequency"
      ],
      "execution_count": 0,
      "outputs": []
    },
    {
      "cell_type": "code",
      "metadata": {
        "id": "H0QbAJA5YuG0",
        "colab_type": "code",
        "colab": {
          "base_uri": "https://localhost:8080/",
          "height": 54
        },
        "outputId": "5816a67b-488e-43f5-c267-e51df1194828"
      },
      "source": [
        "print(word_frequencies)"
      ],
      "execution_count": 67,
      "outputs": [
        {
          "output_type": "stream",
          "text": [
            "{'Maria': 0.16666666666666666, 'Sharapova': 0.16666666666666666, 'basically': 0.16666666666666666, 'friends': 0.8333333333333334, 'tennis': 1.0, 'players': 1.0, 'WTA': 0.16666666666666666, 'Tour': 0.16666666666666666, 'Russian': 0.16666666666666666, 'player': 0.3333333333333333, 'problems': 0.16666666666666666, 'openly': 0.16666666666666666, 'speaking': 0.16666666666666666, 'recent': 0.16666666666666666, 'interview': 0.16666666666666666, 'said': 0.3333333333333333, 'hide': 0.16666666666666666, 'feelings': 0.16666666666666666, 'think': 0.6666666666666666, 'knows': 0.16666666666666666, 'job': 0.16666666666666666, 'courts': 0.3333333333333333, 'court': 0.16666666666666666, 'playing': 0.16666666666666666, 'competitor': 0.16666666666666666, 'want': 0.16666666666666666, 'beat': 0.16666666666666666, 'single': 0.16666666666666666, 'person': 0.3333333333333333, 'locker': 0.16666666666666666, 'room': 0.16666666666666666, 'net': 0.16666666666666666, 'strike': 0.16666666666666666, 'conversation': 0.16666666666666666, 'weather': 0.16666666666666666, 'know': 0.16666666666666666, 'minutes': 0.16666666666666666, 'try': 0.16666666666666666, 'win': 0.16666666666666666, 'match': 0.16666666666666666, 'pretty': 0.16666666666666666, 'competitive': 0.16666666666666666, 'girl': 0.16666666666666666, 'hellos': 0.16666666666666666, 'sending': 0.16666666666666666, 'flowers': 0.16666666666666666, 'Uhm': 0.16666666666666666, 'friendly': 0.16666666666666666, 'close': 0.3333333333333333, 'lot': 0.3333333333333333, 'away': 0.16666666666666666, 'strategic': 0.16666666666666666, 'different': 0.6666666666666666, 'men': 0.16666666666666666, 'tour': 0.3333333333333333, 'women': 0.16666666666666666, 'sport': 0.16666666666666666, 'mean': 0.16666666666666666, 'categorized': 0.16666666666666666, 'going': 0.16666666666666666, 'interests': 0.3333333333333333, 'completely': 0.16666666666666666, 'jobs': 0.16666666666666666, 'met': 0.16666666666666666, 'parts': 0.16666666666666666, 'life': 0.16666666666666666, 'thinks': 0.16666666666666666, 'greatest': 0.16666666666666666, 'ultimately': 0.16666666666666666, 'small': 0.16666666666666666, 'things': 0.16666666666666666, 'interested': 0.16666666666666666}\n"
          ],
          "name": "stdout"
        }
      ]
    },
    {
      "cell_type": "code",
      "metadata": {
        "id": "d9vbQAUDZCUV",
        "colab_type": "code",
        "colab": {
          "base_uri": "https://localhost:8080/",
          "height": 224
        },
        "outputId": "f6586585-addb-46e3-8d4f-c8e38edb5baf"
      },
      "source": [
        "sentence_tokens = [sent for sent in doc.sents]\n",
        "print(sentence_tokens)"
      ],
      "execution_count": 68,
      "outputs": [
        {
          "output_type": "stream",
          "text": [
            "[\n",
            "Maria Sharapova has basically no friends as tennis players on the WTA Tour., The Russian player has no problems in openly speaking about it and, in a recent interview she said: 'I don't really hide any feelings too much. \n",
            ", I think everyone knows this is my job here., When I'm on the courts or when I'm on the court playing, I'm a competitor, and I want to beat every single person whether they're in the locker room or across the net.\n",
            ", So I'm not the one to strike up a conversation about the weather and know that in the next few minutes I have to go and try to win a tennis match. \n",
            ", I'm a pretty competitive girl., I say my hellos, but I'm not sending any players flowers as well., Uhm, I'm not really friendly or close to many players.\n",
            ", I have not a lot of friends away from the courts.', When she said she is not really close to a lot of players, is that something strategic that she is doing?, Is it different on the men's tour than the women's tour? ', No, not at all.\n",
            ", I think just because you're in the same sport doesn't mean that you have to be friends with everyone just because you're categorized, you're a tennis player, so you're going to get along with tennis players. \n",
            ", I think every person has different interests., I have friends that have completely different jobs and interests, and I've met them in very different parts of my life.\n",
            ", I think everyone just thinks because we're tennis players, we should be the greatest of friends., But ultimately tennis is just a very small part of what we do. \n",
            ", There are so many other things that we're interested in, that we do.'\n",
            "]\n"
          ],
          "name": "stdout"
        }
      ]
    },
    {
      "cell_type": "code",
      "metadata": {
        "id": "-3Ee54JWZk5G",
        "colab_type": "code",
        "colab": {}
      },
      "source": [
        "sentence_scores = {}\n",
        "for sent in sentence_tokens:\n",
        "  for word in sent:\n",
        "    if word.text.lower() in word_frequencies.keys():\n",
        "      if sent not in sentence_scores.keys():\n",
        "        sentence_scores[sent] = word_frequencies[word.text.lower()]\n",
        "      else:\n",
        "        sentence_scores[sent] += word_frequencies[word.text.lower()]\n"
      ],
      "execution_count": 0,
      "outputs": []
    },
    {
      "cell_type": "code",
      "metadata": {
        "id": "eHuAYodnIg5I",
        "colab_type": "code",
        "colab": {
          "base_uri": "https://localhost:8080/",
          "height": 394
        },
        "outputId": "5ad12dd5-1e46-4fc4-ef01-d3fd682bd359"
      },
      "source": [
        "sentence_scores"
      ],
      "execution_count": 70,
      "outputs": [
        {
          "output_type": "execute_result",
          "data": {
            "text/plain": [
              "{\n",
              " Maria Sharapova has basically no friends as tennis players on the WTA Tour.: 3.3333333333333335,\n",
              " The Russian player has no problems in openly speaking about it and: 0.8333333333333333,\n",
              " in a recent interview she said: 'I don't really hide any feelings too much. : 0.9999999999999999,\n",
              " I think everyone knows this is my job here.: 0.9999999999999999,\n",
              " When I'm on the courts or when I'm on the court playing, I'm a competitor: 0.8333333333333333,\n",
              " and I want to beat every single person whether they're in the locker room or across the net.: 1.3333333333333333,\n",
              " So I'm not the one to strike up a conversation about the weather and know that in the next few minutes I have to go and try to win a tennis match. : 2.333333333333333,\n",
              " I'm a pretty competitive girl.: 0.5,\n",
              " I say my hellos, but I'm not sending any players flowers as well.: 1.5,\n",
              " Uhm, I'm not really friendly or close to many players.: 1.5,\n",
              " I have not a lot of friends away from the courts.': 1.6666666666666667,\n",
              " When she said she is not really close to a lot of players, is that something strategic that she is doing?: 2.1666666666666665,\n",
              " Is it different on the men's tour than the women's tour? ': 1.6666666666666665,\n",
              " I think just because you're in the same sport doesn't mean that you have to be friends with everyone just because you're categorized, you're a tennis player, so you're going to get along with tennis players. : 5.5,\n",
              " I think every person has different interests.: 1.9999999999999998,\n",
              " I have friends that have completely different jobs and interests, and I've met them in very different parts of my life.: 3.3333333333333326,\n",
              " I think everyone just thinks because we're tennis players: 2.833333333333333,\n",
              " we should be the greatest of friends.: 1.0,\n",
              " But ultimately tennis is just a very small part of what we do. : 1.3333333333333335,\n",
              " There are so many other things that we're interested in, that we do.': 0.3333333333333333}"
            ]
          },
          "metadata": {
            "tags": []
          },
          "execution_count": 70
        }
      ]
    },
    {
      "cell_type": "code",
      "metadata": {
        "id": "-8BICcjZJCpU",
        "colab_type": "code",
        "colab": {}
      },
      "source": [
        "from heapq import nlargest"
      ],
      "execution_count": 0,
      "outputs": []
    },
    {
      "cell_type": "code",
      "metadata": {
        "id": "n7QOpoldJTcY",
        "colab_type": "code",
        "colab": {
          "base_uri": "https://localhost:8080/",
          "height": 34
        },
        "outputId": "0c98ff90-aff9-4ad9-edc1-602b161a5b26"
      },
      "source": [
        "select_length = int(len(sentence_tokens)*0.3)\n",
        "select_length"
      ],
      "execution_count": 72,
      "outputs": [
        {
          "output_type": "execute_result",
          "data": {
            "text/plain": [
              "6"
            ]
          },
          "metadata": {
            "tags": []
          },
          "execution_count": 72
        }
      ]
    },
    {
      "cell_type": "code",
      "metadata": {
        "id": "0qYYWV82JygM",
        "colab_type": "code",
        "colab": {}
      },
      "source": [
        "summary = nlargest(select_length, sentence_scores, key = sentence_scores.get)"
      ],
      "execution_count": 0,
      "outputs": []
    },
    {
      "cell_type": "code",
      "metadata": {
        "id": "TR5wQN6UKDrt",
        "colab_type": "code",
        "colab": {
          "base_uri": "https://localhost:8080/",
          "height": 156
        },
        "outputId": "82a53ef6-31ab-400e-a51e-b80a7fcfb443"
      },
      "source": [
        "summary"
      ],
      "execution_count": 74,
      "outputs": [
        {
          "output_type": "execute_result",
          "data": {
            "text/plain": [
              "[I think just because you're in the same sport doesn't mean that you have to be friends with everyone just because you're categorized, you're a tennis player, so you're going to get along with tennis players. ,\n",
              " \n",
              " Maria Sharapova has basically no friends as tennis players on the WTA Tour.,\n",
              " I have friends that have completely different jobs and interests, and I've met them in very different parts of my life.,\n",
              " I think everyone just thinks because we're tennis players,\n",
              " So I'm not the one to strike up a conversation about the weather and know that in the next few minutes I have to go and try to win a tennis match. ,\n",
              " When she said she is not really close to a lot of players, is that something strategic that she is doing?]"
            ]
          },
          "metadata": {
            "tags": []
          },
          "execution_count": 74
        }
      ]
    },
    {
      "cell_type": "code",
      "metadata": {
        "id": "k3cGqkqaKWnT",
        "colab_type": "code",
        "colab": {}
      },
      "source": [
        "final_summary = [word.text for word in summary]"
      ],
      "execution_count": 0,
      "outputs": []
    },
    {
      "cell_type": "code",
      "metadata": {
        "id": "1pw4ElbUKpMB",
        "colab_type": "code",
        "colab": {}
      },
      "source": [
        "summary = ' '.join(final_summary)"
      ],
      "execution_count": 0,
      "outputs": []
    },
    {
      "cell_type": "code",
      "metadata": {
        "id": "Wa66EgbzLIgR",
        "colab_type": "code",
        "colab": {
          "base_uri": "https://localhost:8080/",
          "height": 224
        },
        "outputId": "a72e4c9e-697f-4ed1-d987-3e966a6ca086"
      },
      "source": [
        "print(text)"
      ],
      "execution_count": 77,
      "outputs": [
        {
          "output_type": "stream",
          "text": [
            "\n",
            "Maria Sharapova has basically no friends as tennis players on the WTA Tour. The Russian player has no problems in openly speaking about it and in a recent interview she said: 'I don't really hide any feelings too much. \n",
            "I think everyone knows this is my job here. When I'm on the courts or when I'm on the court playing, I'm a competitor and I want to beat every single person whether they're in the locker room or across the net.\n",
            "So I'm not the one to strike up a conversation about the weather and know that in the next few minutes I have to go and try to win a tennis match. \n",
            "I'm a pretty competitive girl. I say my hellos, but I'm not sending any players flowers as well. Uhm, I'm not really friendly or close to many players.\n",
            "I have not a lot of friends away from the courts.' When she said she is not really close to a lot of players, is that something strategic that she is doing? Is it different on the men's tour than the women's tour? 'No, not at all.\n",
            "I think just because you're in the same sport doesn't mean that you have to be friends with everyone just because you're categorized, you're a tennis player, so you're going to get along with tennis players. \n",
            "I think every person has different interests. I have friends that have completely different jobs and interests, and I've met them in very different parts of my life.\n",
            "I think everyone just thinks because we're tennis players we should be the greatest of friends. But ultimately tennis is just a very small part of what we do. \n",
            "There are so many other things that we're interested in, that we do.'\n",
            "\n"
          ],
          "name": "stdout"
        }
      ]
    },
    {
      "cell_type": "code",
      "metadata": {
        "id": "no_-dxurKz1c",
        "colab_type": "code",
        "colab": {
          "base_uri": "https://localhost:8080/",
          "height": 122
        },
        "outputId": "c3207863-71b2-40f0-b613-2694811d7933"
      },
      "source": [
        "print(summary)"
      ],
      "execution_count": 78,
      "outputs": [
        {
          "output_type": "stream",
          "text": [
            "I think just because you're in the same sport doesn't mean that you have to be friends with everyone just because you're categorized, you're a tennis player, so you're going to get along with tennis players. \n",
            " \n",
            "Maria Sharapova has basically no friends as tennis players on the WTA Tour. I have friends that have completely different jobs and interests, and I've met them in very different parts of my life.\n",
            " I think everyone just thinks because we're tennis players So I'm not the one to strike up a conversation about the weather and know that in the next few minutes I have to go and try to win a tennis match. \n",
            " When she said she is not really close to a lot of players, is that something strategic that she is doing?\n"
          ],
          "name": "stdout"
        }
      ]
    }
  ]
}